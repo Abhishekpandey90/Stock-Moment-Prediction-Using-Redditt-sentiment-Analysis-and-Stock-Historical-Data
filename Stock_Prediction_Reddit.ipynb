{
  "nbformat": 4,
  "nbformat_minor": 0,
  "metadata": {
    "colab": {
      "provenance": []
    },
    "kernelspec": {
      "name": "python3",
      "display_name": "Python 3"
    },
    "language_info": {
      "name": "python"
    }
  },
  "cells": [
    {
      "cell_type": "markdown",
      "source": [
        "##**Stock Movement Prediction using Reddit Sentiment and Historic Data Analysis**"
      ],
      "metadata": {
        "id": "o4o-8B3oxpqP"
      }
    },
    {
      "cell_type": "markdown",
      "source": [
        "**Objective**\n",
        "\n",
        "*   Data Scraping\n",
        "*   Text Preprocesing\n",
        "*   Data Cleaning\n",
        "*   Sentiment Analysis\n",
        "*   Plot Polarity Score\n",
        "*   Feature Extraction\n",
        "*   Historic Data Merge\n",
        "*   Model Selection & Training\n",
        "*   Model Evaluation & Hpyerparameter Tuning\n",
        "*   Plot Accuracy Comparison & Validation Loss\n",
        "*   Summary\n",
        "\n",
        "\n",
        "\n",
        "\n",
        "\n",
        "\n",
        "\n",
        "\n",
        "\n",
        "\n",
        "\n",
        "\n",
        "\n",
        "\n",
        "\n"
      ],
      "metadata": {
        "id": "J91rpnV6AwZ_"
      }
    },
    {
      "cell_type": "markdown",
      "source": [
        "**1 Data Scraping**\n",
        "\n",
        "1.1 Choose Reddit as the Social Media Platform:\n",
        "\n",
        "Reddit offers APIs through libraries like PRAW (Python Reddit API Wrapper) for efficient data collection.\n",
        "\n",
        "Install Required libraries"
      ],
      "metadata": {
        "id": "AJRO10qqBjGx"
      }
    },
    {
      "cell_type": "code",
      "execution_count": 3,
      "metadata": {
        "colab": {
          "base_uri": "https://localhost:8080/"
        },
        "id": "vHKkxjyF1SHa",
        "outputId": "53d9d3bb-3380-4537-d48b-12aef5e24e06"
      },
      "outputs": [
        {
          "output_type": "stream",
          "name": "stdout",
          "text": [
            "Collecting praw\n",
            "  Downloading praw-7.7.1-py3-none-any.whl.metadata (9.8 kB)\n",
            "Requirement already satisfied: pandas in /usr/local/lib/python3.10/dist-packages (2.2.2)\n",
            "Collecting prawcore<3,>=2.1 (from praw)\n",
            "  Downloading prawcore-2.4.0-py3-none-any.whl.metadata (5.0 kB)\n",
            "Collecting update-checker>=0.18 (from praw)\n",
            "  Downloading update_checker-0.18.0-py3-none-any.whl.metadata (2.3 kB)\n",
            "Requirement already satisfied: websocket-client>=0.54.0 in /usr/local/lib/python3.10/dist-packages (from praw) (1.8.0)\n",
            "Requirement already satisfied: numpy>=1.22.4 in /usr/local/lib/python3.10/dist-packages (from pandas) (1.26.4)\n",
            "Requirement already satisfied: python-dateutil>=2.8.2 in /usr/local/lib/python3.10/dist-packages (from pandas) (2.8.2)\n",
            "Requirement already satisfied: pytz>=2020.1 in /usr/local/lib/python3.10/dist-packages (from pandas) (2024.2)\n",
            "Requirement already satisfied: tzdata>=2022.7 in /usr/local/lib/python3.10/dist-packages (from pandas) (2024.2)\n",
            "Requirement already satisfied: requests<3.0,>=2.6.0 in /usr/local/lib/python3.10/dist-packages (from prawcore<3,>=2.1->praw) (2.32.3)\n",
            "Requirement already satisfied: six>=1.5 in /usr/local/lib/python3.10/dist-packages (from python-dateutil>=2.8.2->pandas) (1.16.0)\n",
            "Requirement already satisfied: charset-normalizer<4,>=2 in /usr/local/lib/python3.10/dist-packages (from requests<3.0,>=2.6.0->prawcore<3,>=2.1->praw) (3.3.2)\n",
            "Requirement already satisfied: idna<4,>=2.5 in /usr/local/lib/python3.10/dist-packages (from requests<3.0,>=2.6.0->prawcore<3,>=2.1->praw) (3.10)\n",
            "Requirement already satisfied: urllib3<3,>=1.21.1 in /usr/local/lib/python3.10/dist-packages (from requests<3.0,>=2.6.0->prawcore<3,>=2.1->praw) (2.2.3)\n",
            "Requirement already satisfied: certifi>=2017.4.17 in /usr/local/lib/python3.10/dist-packages (from requests<3.0,>=2.6.0->prawcore<3,>=2.1->praw) (2024.8.30)\n",
            "Downloading praw-7.7.1-py3-none-any.whl (191 kB)\n",
            "\u001b[2K   \u001b[90m━━━━━━━━━━━━━━━━━━━━━━━━━━━━━━━━━━━━━━━━\u001b[0m \u001b[32m191.0/191.0 kB\u001b[0m \u001b[31m3.8 MB/s\u001b[0m eta \u001b[36m0:00:00\u001b[0m\n",
            "\u001b[?25hDownloading prawcore-2.4.0-py3-none-any.whl (17 kB)\n",
            "Downloading update_checker-0.18.0-py3-none-any.whl (7.0 kB)\n",
            "Installing collected packages: update-checker, prawcore, praw\n",
            "Successfully installed praw-7.7.1 prawcore-2.4.0 update-checker-0.18.0\n"
          ]
        }
      ],
      "source": [
        "pip install praw pandas\n"
      ]
    },
    {
      "cell_type": "markdown",
      "source": [
        "**1.2. Setting Up Reddit API Access**\n",
        "- create Raddit Developer account\n",
        "- create clind ID and Secret key\n",
        "\n",
        "Authenticate with Raddit API\n",
        "\n"
      ],
      "metadata": {
        "id": "NpG-dipUIRJj"
      }
    },
    {
      "cell_type": "code",
      "source": [
        "import praw\n",
        "\n",
        "# Replace with your own credentials\n",
        "reddit = praw.Reddit(\n",
        "    client_id='d33q6sVL6PBHR7o4jClC9w',\n",
        "    client_secret='oONCZIGfiFY90gwonWTZ0ai6DJjGeA',\n",
        "    user_agent='Stock Analysis by /u/Abhishek_31234'  # e.g., 'stock_predictor by /u/yourusername'\n",
        ")"
      ],
      "metadata": {
        "id": "R6gL6qZj1mC4"
      },
      "execution_count": 4,
      "outputs": []
    },
    {
      "cell_type": "code",
      "source": [
        "import pandas as pd\n",
        "import warnings\n",
        "\n",
        "# Suppress all warnings\n",
        "def warning(*args, **kwargs):\n",
        "    pass\n",
        "\n",
        "warnings.warn = warning"
      ],
      "metadata": {
        "id": "NWr7xMkd5zE8"
      },
      "execution_count": 5,
      "outputs": []
    },
    {
      "cell_type": "markdown",
      "source": [
        "\n",
        "**1.3 Data Collection**\n",
        "\n",
        "using Praw to scrap data from Raddit\n",
        "\n",
        "Subreddit: Select subreddits that are rich in stock-related discussions like - Stocks, Investing etc.\n",
        "\n",
        "Keywords: We use specific stock symbols like - AAPL, TSLA and related terms.\n",
        "\n",
        "Post Types: Focus on submissions and comments that mention stock discussions.\n",
        "\n"
      ],
      "metadata": {
        "id": "OurHvSZFJS9-"
      }
    },
    {
      "cell_type": "code",
      "source": [
        "def scrape_reddit(subreddits, keywords, limit=1000):\n",
        "    data = []\n",
        "    for subreddit in subreddits:\n",
        "        subreddit_instance = reddit.subreddit(subreddit)\n",
        "        for submission in subreddit_instance.search(keywords, limit=limit, sort='new'):\n",
        "            data.append({\n",
        "                'subreddit': subreddit,\n",
        "                'title': submission.title,\n",
        "                'selftext': submission.selftext,\n",
        "                'created_utc': datetime.datetime.fromtimestamp(submission.created_utc),\n",
        "                'score': submission.score,\n",
        "                'num_comments': submission.num_comments,\n",
        "                'upvote_ratio': submission.upvote_ratio,\n",
        "                'url': submission.url\n",
        "            })\n",
        "            # Fetching comments\n",
        "            submission.comments.replace_more(limit=0)\n",
        "            for comment in submission.comments.list():\n",
        "                data.append({\n",
        "                    'subreddit': subreddit,\n",
        "                    'title': '',  # Comments don't have titles\n",
        "                    'selftext': comment.body,\n",
        "                    'created_utc': datetime.datetime.fromtimestamp(comment.created_utc),\n",
        "                    'score': comment.score,\n",
        "                    'num_comments': '',  # Comments don't have comments\n",
        "                    'upvote_ratio': '',\n",
        "                    'url': submission.url\n",
        "                })\n",
        "    return pd.DataFrame(data)\n"
      ],
      "metadata": {
        "id": "h_rTRjhb22kg"
      },
      "execution_count": 6,
      "outputs": []
    },
    {
      "cell_type": "code",
      "source": [
        "import datetime\n",
        "subreddits = ['WallStreetBets', 'stocks', 'investing']\n",
        "keywords = 'AAPL OR TSLA OR GME OR \"Apple Inc.\" OR \"Tesla Motors\" OR \"GameStop\"'\n",
        "df_reddit = scrape_reddit(subreddits, keywords, limit=500)"
      ],
      "metadata": {
        "colab": {
          "base_uri": "https://localhost:8080/"
        },
        "id": "2St78Z1K3Ct9",
        "outputId": "8c4727c9-dd0f-4d1b-ca57-8380ec5c27b0",
        "collapsed": true
      },
      "execution_count": 7,
      "outputs": [
        {
          "output_type": "stream",
          "name": "stderr",
          "text": [
            "WARNING:praw:It appears that you are using PRAW in an asynchronous environment.\n",
            "It is strongly recommended to use Async PRAW: https://asyncpraw.readthedocs.io.\n",
            "See https://praw.readthedocs.io/en/latest/getting_started/multiple_instances.html#discord-bots-and-asynchronous-environments for more info.\n",
            "\n",
           
            "See https://praw.readthedocs.io/en/latest/getting_started/multiple_instances.html#discord-bots-and-asynchronous-environments for more info.\n",
            "\n"
          ]
        }
      ]
    },
    {
      "cell_type": "markdown",
      "source": [
        "**1.5. Data Cleaning and Preprocessing**\n",
        "\n",
        "Remove Duplicates and Nulls in text data"
      ],
      "metadata": {
        "id": "qpsJDWbSdQj0"
      }
    },
    {
      "cell_type": "code",
      "source": [
        "df_reddit.drop_duplicates(inplace=True)\n",
        "df_reddit.dropna(subset=['selftext'], inplace=True)\n"
      ],
      "metadata": {
        "id": "a0ivVTKa3G5E"
      },
      "execution_count": 8,
      "outputs": []
    },
    {
      "cell_type": "markdown",
      "source": [
        "Remove URLs, Markdown Syntax, Special Characters, and Convert to Lowercase"
      ],
      "metadata": {
        "id": "PamjymKedHrX"
      }
    },
    {
      "cell_type": "code",
      "source": [
        "import re\n",
        "import string\n",
        "\n",
        "def clean_text(text):\n",
        "    text = re.sub(r'http\\S+', '', text)  # Remove URLs\n",
        "    text = re.sub(r'\\n', ' ', text)      # Replace newlines with space\n",
        "    text = re.sub(r'\\[.*?\\]\\(.*?\\)', '', text)  # Remove Markdown links\n",
        "    text = re.sub(r'[^A-Za-z0-9\\s]', '', text)   # Remove special characters\n",
        "    text = text.lower()  # Convert to lowercase\n",
        "    return text\n",
        "\n",
        "df_reddit['clean_text'] = df_reddit['selftext'].apply(clean_text)\n"
      ],
      "metadata": {
        "id": "fGd0I72DVY8D"
      },
      "execution_count": 9,
      "outputs": []
    },
    {
      "cell_type": "markdown",
      "source": [
        "Data Parsing"
      ],
      "metadata": {
        "id": "xwPSYyQ3Ljzo"
      }
    },
    {
      "cell_type": "code",
      "source": [
        "df_reddit['created_at'] = pd.to_datetime(df_reddit['created_utc'])\n",
        "df_reddit.drop('created_utc', axis=1, inplace=True)\n"
      ],
      "metadata": {
        "id": "2xkTbX9UVeUQ"
      },
      "execution_count": 10,
      "outputs": []
    },
    {
      "cell_type": "markdown",
      "source": [
        "Print Cleaned Text"
      ],
      "metadata": {
        "id": "_rokNTTQLuB7"
      }
    },
    {
      "cell_type": "code",
      "source": [
        "print(df_reddit['clean_text'])"
      ],
      "metadata": {
        "colab": {
          "base_uri": "https://localhost:8080/"
        },
        "id": "TdRYrajXVmqx",
        "outputId": "98661f37-0c0e-4fc1-d484-82aa3b8c5197"
      },
      "execution_count": 11,
      "outputs": [
        {
          "output_type": "stream",
          "name": "stdout",
          "text": [
            "0        im sure just like me you all have heard the fa...\n",
            "1         user report     total submissions  8  first s...\n",
            "2        why cant we just get decent fucking public tra...\n",
            "3        you guys remember the game of thrones south pa...\n",
            "4        as someone who drives a tesla and had his fsd ...\n",
            "                               ...                        \n",
            "58137    the concentrated tab seems to link to a lot of...\n",
            "58138    no insider trading here but i see why one coul...\n",
            "58139    yes i tried google no good results aapl was on...\n",
            "58140    this is not at all addressing my specific ques...\n",
            "58141    i am unaware of a specific tool that does what...\n",
            "Name: clean_text, Length: 58138, dtype: object\n"
          ]
        }
      ]
    },
    {
      "cell_type": "markdown",
      "source": [
        "Save the cleaned data in a csv file"
      ],
      "metadata": {
        "id": "f3s0MqQiekYF"
      }
    },
    {
      "cell_type": "code",
      "source": [
        "df_reddit['clean_text'].to_csv('cleaned_reddit_data.csv', index=False)"
      ],
      "metadata": {
        "id": "TQbWSSMCcNlR"
      },
      "execution_count": 12,
      "outputs": []
    },
    {
      "cell_type": "code",
      "source": [],
      "metadata": {
        "id": "f6cXtHoQefOW"
      },
      "execution_count": 12,
      "outputs": []
    },
    {
      "cell_type": "markdown",
      "source": [
        "## **2. Data Analysis**\n",
        "\n",
        "**2.1** Perform sentiment analysis or topic modeling on the scraped data.\n",
        "Gauge the overall sentiment of the discussions to infer market sentimen\n",
        "\n",
        "VADER Lirary :\n",
        "\n",
        "The Valence Aware Dictionary and sEntiment Reasoner (VADER) is a sentiment analysis tool specifically designed to analyze social media text and other informal communication. VADER is unique because it considers the intensity (valence) of words, making it more effective for sentiment analysis in texts where language is often casual or unstructured.\n",
        "\n"
      ],
      "metadata": {
        "id": "d59SHpjferV3"
      }
    },
    {
      "cell_type": "markdown",
      "source": [
        "Install VADER"
      ],
      "metadata": {
        "id": "JQNPTFirMOCh"
      }
    },
    {
      "cell_type": "code",
      "source": [
        "pip install vaderSentiment"
      ],
      "metadata": {
        "colab": {
          "base_uri": "https://localhost:8080/"
        },
        "collapsed": true,
        "id": "MTboDmcPMU0e",
        "outputId": "4eb09acb-01d3-4173-ccb7-0f5b87782b28"
      },
      "execution_count": 13,
      "outputs": [
        {
          "output_type": "stream",
          "name": "stdout",
          "text": [
            "Collecting vaderSentiment\n",
            "  Downloading vaderSentiment-3.3.2-py2.py3-none-any.whl.metadata (572 bytes)\n",
            "Requirement already satisfied: requests in /usr/local/lib/python3.10/dist-packages (from vaderSentiment) (2.32.3)\n",
            "Requirement already satisfied: charset-normalizer<4,>=2 in /usr/local/lib/python3.10/dist-packages (from requests->vaderSentiment) (3.3.2)\n",
            "Requirement already satisfied: idna<4,>=2.5 in /usr/local/lib/python3.10/dist-packages (from requests->vaderSentiment) (3.10)\n",
            "Requirement already satisfied: urllib3<3,>=1.21.1 in /usr/local/lib/python3.10/dist-packages (from requests->vaderSentiment) (2.2.3)\n",
            "Requirement already satisfied: certifi>=2017.4.17 in /usr/local/lib/python3.10/dist-packages (from requests->vaderSentiment) (2024.8.30)\n",
            "Downloading vaderSentiment-3.3.2-py2.py3-none-any.whl (125 kB)\n",
            "\u001b[?25l   \u001b[90m━━━━━━━━━━━━━━━━━━━━━━━━━━━━━━━━━━━━━━━━\u001b[0m \u001b[32m0.0/126.0 kB\u001b[0m \u001b[31m?\u001b[0m eta \u001b[36m-:--:--\u001b[0m\r\u001b[2K   \u001b[91m━━━━━━━━━━━━━━━━━━━━━━━━━━━━━━━━━━━━━━━\u001b[0m\u001b[90m╺\u001b[0m \u001b[32m122.9/126.0 kB\u001b[0m \u001b[31m3.8 MB/s\u001b[0m eta \u001b[36m0:00:01\u001b[0m\r\u001b[2K   \u001b[90m━━━━━━━━━━━━━━━━━━━━━━━━━━━━━━━━━━━━━━━━\u001b[0m \u001b[32m126.0/126.0 kB\u001b[0m \u001b[31m2.6 MB/s\u001b[0m eta \u001b[36m0:00:00\u001b[0m\n",
            "\u001b[?25hInstalling collected packages: vaderSentiment\n",
            "Successfully installed vaderSentiment-3.3.2\n"
          ]
        }
      ]
    },
    {
      "cell_type": "code",
      "source": [
        "from vaderSentiment.vaderSentiment import SentimentIntensityAnalyzer\n",
        "\n",
        "analyzer = SentimentIntensityAnalyzer()\n",
        "\n",
        "def get_sentiment(text):\n",
        "    vs = analyzer.polarity_scores(text)\n",
        "    return vs['compound']\n",
        "\n",
        "df_reddit['sentiment_score'] = df_reddit['clean_text'].apply(get_sentiment)\n",
        "df_reddit['sentiment'] = df_reddit['sentiment_score'].apply(\n",
        "    lambda x: 'positive' if x >= 0.05 else ('negative' if x <= -0.05 else 'neutral')\n",
        ")"
      ],
      "metadata": {
        "id": "aHJnqrbHeuoX"
      },
      "execution_count": 14,
      "outputs": []
    },
    {
      "cell_type": "markdown",
      "source": [
        "**2.2 Visualize the Sentiment Analysis**\n",
        "\n",
        "Use Bar plot to check the polarity of each comments whether it be Positive Negative or Neutral"
      ],
      "metadata": {
        "id": "EmrD8iE-NpGU"
      }
    },
    {
      "cell_type": "code",
      "source": [
        "import matplotlib.pyplot as plt\n",
        "import seaborn as sns\n",
        "\n",
        "# Count the number of each sentiment category\n",
        "sentiment_counts = df_reddit['sentiment'].value_counts()\n",
        "\n",
        "# Plot the sentiment distribution\n",
        "plt.figure(figsize=(6, 4))\n",
        "sns.barplot(x=sentiment_counts.index, y=sentiment_counts.values, palette='viridis')\n",
        "plt.title('Sentiment Distribution of Reddit Posts')\n",
        "plt.xlabel('Sentiment')\n",
        "plt.ylabel('Number of Posts')\n",
        "plt.show()\n",
        "\n"
      ],
      "metadata": {
        "colab": {
          "base_uri": "https://localhost:8080/",
          "height": 410
        },
        "id": "su5fH3DLhCTo",
        "outputId": "6a24cae6-0a05-43b4-b1ed-0ad395c82e7e"
      },
      "execution_count": 15,
      "outputs": [
        {
          "output_type": "display_data",
          "data": {
            "text/plain": [
              "<Figure size 600x400 with 1 Axes>"
            ],
            "image/png": "[encoded data removed]"
          },
          "metadata": {}
        }
      ]
    },
    {
      "cell_type": "markdown",
      "source": [
        "Use  Histogram of the sentiment scores, showing the distribution across the range of values."
      ],
      "metadata": {
        "id": "rUK2x5tcjUy1"
      }
    },
    {
      "cell_type": "code",
      "source": [
        "#Plot the histogram of sentiment scores\n",
        "plt.figure(figsize=(10, 6))\n",
        "sns.histplot(df_reddit['sentiment_score'], bins=20, kde=True, color='purple')\n",
        "plt.title('Sentiment Score Distribution')\n",
        "plt.xlabel('Sentiment Score')\n",
        "plt.ylabel('Frequency')\n",
        "plt.show()"
      ],
      "metadata": {
        "colab": {
          "base_uri": "https://localhost:8080/",
          "height": 564
        },
        "id": "yWakmVCbiLuC",
        "outputId": "57c199bb-3373-4315-e6ed-9e885185f338"
      },
      "execution_count": 16,
      "outputs": [
        {
          "output_type": "display_data",
          "data": {
            "text/plain": [
              "<Figure size 1000x600 with 1 Axes>"
            ],
            "image/png": "[encoded data removed]"
          },
          "metadata": {}
        }
      ]
    },
    {
      "cell_type": "markdown",
      "source": [
        "Check the polarity Score for the new sentence"
      ],
      "metadata": {
        "id": "WSAq8QthO7mJ"
      }
    },
    {
      "cell_type": "code",
      "source": [
        "sentence = \"The stock market is showing promising growth this week.\"\n",
        "\n",
        "# Get the polarity scores for the sentence\n",
        "polarity_scores = analyzer.polarity_scores(sentence)\n",
        "\n",
        "# Print the polarity scores\n",
        "print(f\"Polarity scores for the sentence: {polarity_scores}\")"
      ],
      "metadata": {
        "colab": {
          "base_uri": "https://localhost:8080/"
        },
        "id": "9QjkwcGaO4Hb",
        "outputId": "086b1aaf-3d60-474a-93ea-486afcafe1b9"
      },
      "execution_count": 17,
      "outputs": [
        {
          "output_type": "stream",
          "name": "stdout",
          "text": [
            "Polarity scores for the sentence: {'neg': 0.0, 'neu': 0.569, 'pos': 0.431, 'compound': 0.6486}\n"
          ]
        }
      ]
    },
    {
      "cell_type": "markdown",
      "source": [
        "After Sentiment Analysis I can also Apply LDA (Latent Dirichlet Analysis) for the topic modeling purpose but since our dataset already belong to the Stock Discussion post so no need to do topic modelling(Optional)."
      ],
      "metadata": {
        "id": "wXlCZ0Tyn2rh"
      }
    },
    {
      "cell_type": "markdown",
      "source": [
        "**2.2 Feature Extraction**\n",
        "\n",
        "Extract key features that could influence stock movements:"
      ],
      "metadata": {
        "id": "b6Nn9fv4peKH"
      }
    },
    {
      "cell_type": "code",
      "source": [
        "df_reddit.columns"
      ],
      "metadata": {
        "colab": {
          "base_uri": "https://localhost:8080/"
        },
        "id": "K8SIcs-0qlKV",
        "outputId": "cefdb0eb-9b89-4eb2-e772-da280f49483c"
      },
      "execution_count": 18,
      "outputs": [
        {
          "output_type": "execute_result",
          "data": {
            "text/plain": [
              "Index(['subreddit', 'title', 'selftext', 'score', 'num_comments',\n",
              "       'upvote_ratio', 'url', 'clean_text', 'created_at', 'sentiment_score',\n",
              "       'sentiment'],\n",
              "      dtype='object')"
            ]
          },
          "metadata": {},
          "execution_count": 18
        }
      ]
    },
    {
      "cell_type": "code",
      "source": [
        "def extract_date(text):\n",
        "    # Adjust the regex pattern according to data format in the text\n",
        "    match = re.search(r'\\d{4}-\\d{2}-\\d{2}', text)  # YYYY-MM-DD format\n",
        "    if match:\n",
        "        return match.group(0)\n",
        "    return None\n",
        "\n",
        "# Create 'created_at' column from the extracted date\n",
        "df_reddit['created_at'] = df_reddit['selftext'].apply(extract_date)\n",
        "\n",
        "# Drop rows where 'created_at' could not be extracted\n",
        "df_reddit.dropna(subset=['created_at'], inplace=True)\n",
        "\n",
        "# Convert 'created_at' to datetime format with format='mixed'\n",
        "df_reddit['created_at'] = pd.to_datetime(df_reddit['created_at'], format='mixed', errors='coerce')\n",
        "\n",
        "# Drop rows where 'created_at' couldn't be parsed correctly\n",
        "df_reddit.dropna(subset=['created_at'], inplace=True)\n",
        "\n",
        "# Now, you can proceed with setting 'created_at' as the index and resampling\n",
        "df_reddit.set_index('created_at', inplace=True)"
      ],
      "metadata": {
        "id": "vjtVAYbls9do"
      },
      "execution_count": 19,
      "outputs": []
    },
    {
      "cell_type": "code",
      "source": [
        "# Convert columns to numeric where appropriate\n",
        "df_reddit['score'] = pd.to_numeric(df_reddit['score'], errors='coerce')\n",
        "df_reddit['num_comments'] = pd.to_numeric(df_reddit['num_comments'], errors='coerce')\n",
        "df_reddit['upvote_ratio'] = pd.to_numeric(df_reddit['upvote_ratio'], errors='coerce')\n",
        "df_reddit['sentiment_score'] = pd.to_numeric(df_reddit['sentiment_score'], errors='coerce')"
      ],
      "metadata": {
        "id": "IKccGxGFRKnx"
      },
      "execution_count": 20,
      "outputs": []
    },
    {
      "cell_type": "code",
      "source": [
        "# Define aggregation functions\n",
        "agg_functions = {\n",
        "    'sentiment_score': 'mean',    # Average sentiment score for each day\n",
        "    'score': 'sum',               # Sum of scores for each day\n",
        "    'num_comments': 'sum',        # Sum of comments for each day\n",
        "    'upvote_ratio': 'mean'        # Average upvote ratio for each day\n",
        "}\n",
        "\n",
        "# Resample data to daily frequency and apply aggregation\n",
        "daily_features = df_reddit.resample('D').agg(agg_functions)\n",
        "\n",
        "# Add daily post count\n",
        "daily_features['post_count'] = df_reddit.resample('D').size()\n",
        "\n",
        "# Reset index to get 'created_at' back as a column\n",
        "daily_features.reset_index(inplace=True)\n",
        "\n",
        "# Display the resulting DataFrame\n",
        "print(daily_features.head())"
      ],
      "metadata": {
        "id": "Z4xl8kxosa3G",
        "colab": {
          "base_uri": "https://localhost:8080/"
        },
        "outputId": "362056e3-28b8-4cef-9feb-8cdfd3ca80cc"
      },
      "execution_count": 21,
      "outputs": [
        {
          "output_type": "stream",
          "name": "stdout",
          "text": [
            "  created_at  sentiment_score  score  num_comments  upvote_ratio  post_count\n",
            "0 1981-09-22              0.0     95          16.0          0.89           1\n",
            "1 1981-09-23              NaN      0           0.0           NaN           0\n",
            "2 1981-09-24              NaN      0           0.0           NaN           0\n",
            "3 1981-09-25              NaN      0           0.0           NaN           0\n",
            "4 1981-09-26              NaN      0           0.0           NaN           0\n"
          ]
        }
      ]
    },
    {
      "cell_type": "code",
      "source": [
        "# Forward fill to propagate the last known value\n",
        "daily_features.fillna(method='ffill', inplace=True)\n",
        "\n",
        "print(daily_features.head())"
      ],
      "metadata": {
        "colab": {
          "base_uri": "https://localhost:8080/"
        },
        "id": "R188gwAGQ7zf",
        "outputId": "254c1fbe-3892-4e1e-f4a3-01a475ce2de5"
      },
      "execution_count": 22,
      "outputs": [
        {
          "output_type": "stream",
          "name": "stdout",
          "text": [
            "  created_at  sentiment_score  score  num_comments  upvote_ratio  post_count\n",
            "0 1981-09-22              0.0     95          16.0          0.89           1\n",
            "1 1981-09-23              0.0      0           0.0          0.89           0\n",
            "2 1981-09-24              0.0      0           0.0          0.89           0\n",
            "3 1981-09-25              0.0      0           0.0          0.89           0\n",
            "4 1981-09-26              0.0      0           0.0          0.89           0\n"
          ]
        }
      ]
    },
    {
      "cell_type": "code",
      "source": [
        "# Filter the DataFrame to only include days with at least one post\n",
        "continuous_data = daily_features[daily_features['post_count'] > 0]"
      ],
      "metadata": {
        "id": "EdgqXsW8SvxS"
      },
      "execution_count": 23,
      "outputs": []
    },
    {
      "cell_type": "code",
      "source": [
        "print(continuous_data.head(5))"
      ],
      "metadata": {
        "colab": {
          "base_uri": "https://localhost:8080/"
        },
        "id": "J071r-U9TIqA",
        "outputId": "ddf46f65-1320-46de-d4a6-f58581cc80bc"
      },
      "execution_count": 24,
      "outputs": [
        {
          "output_type": "stream",
          "name": "stdout",
          "text": [
            "      created_at  sentiment_score  score  num_comments  upvote_ratio  \\\n",
            "0     1981-09-22           0.0000     95          16.0          0.89   \n",
            "3397  1991-01-10           0.5994      2           0.0          0.89   \n",
            "10180 2009-08-06           0.0000      4           0.0          0.89   \n",
            "11860 2014-03-13           0.7787      1           0.0          0.89   \n",
            "13615 2019-01-01           0.4019      2           0.0          0.89   \n",
            "\n",
            "       post_count  \n",
            "0               1  \n",
            "3397            1  \n",
            "10180           1  \n",
            "11860           1  \n",
            "13615           1  \n"
          ]
        }
      ]
    },
    {
      "cell_type": "markdown",
      "source": [
        "This process ensured the dataset was ready for modeling to predict stock movements based on social media trends."
      ],
      "metadata": {
        "id": "gVdAlWhUUYeg"
      }
    },
    {
      "cell_type": "markdown",
      "source": [
        "## **3. Prediction Model**\n"
      ],
      "metadata": {
        "id": "CMOVtts9aLST"
      }
    },
    {
      "cell_type": "markdown",
      "source": [
        "**3.1. Align with Stock Price Data**\n",
        "\n",
        "- To align the social media data with stock price data, we have to collect historical stock price data (based on assesment ) for the relevant time period and synchronize it with the daily aggregated Reddit features. This will help us analyse whether trends in social media discussions can predict movements in stock prices."
      ],
      "metadata": {
        "id": "JmXZ4U0zayBb"
      }
    },
    {
      "cell_type": "markdown",
      "source": [
        "Collect Stock Price Data\n",
        "\n",
        "\n",
        "-We use a financial data library yfinance to download historical stock prices."
      ],
      "metadata": {
        "id": "Kat-i_fZbrDA"
      }
    },
    {
      "cell_type": "code",
      "source": [
        "import yfinance as yf"
      ],
      "metadata": {
        "id": "zODCO10LTLc8"
      },
      "execution_count": 25,
      "outputs": []
    },
    {
      "cell_type": "code",
      "source": [
        "stock_symbols = ['AAPL', 'TSLA', 'GME']  # Exp. symbols\n",
        "stock_data = {}\n",
        "\n",
        "for symbol in stock_symbols:\n",
        "    ticker = yf.Ticker(symbol)\n",
        "    df = ticker.history(period=\"max\")\n",
        "    df.reset_index(inplace=True)\n",
        "    df = df[['Date', 'Close']]\n",
        "    df.rename(columns={'Date': 'created_at', 'Close': f'{symbol}_close'}, inplace=True)\n",
        "    stock_data[symbol] = df\n",
        "\n",
        "# Exp. using AAPL\n",
        "df_stock = stock_data['TSLA']\n",
        "print(df_stock.head())"
      ],
      "metadata": {
        "colab": {
          "base_uri": "https://localhost:8080/"
        },
        "id": "3AMoazwCcAw8",
        "outputId": "beadd6ac-5f1f-45fe-f92d-03b126516650"
      },
      "execution_count": 26,
      "outputs": [
        {
          "output_type": "stream",
          "name": "stdout",
          "text": [
            "                 created_at  TSLA_close\n",
            "0 2010-06-29 00:00:00-04:00    1.592667\n",
            "1 2010-06-30 00:00:00-04:00    1.588667\n",
            "2 2010-07-01 00:00:00-04:00    1.464000\n",
            "3 2010-07-02 00:00:00-04:00    1.280000\n",
            "4 2010-07-06 00:00:00-04:00    1.074000\n"
          ]
        }
      ]
    },
    {
      "cell_type": "markdown",
      "source": [
        "Merge Social Media Features with stock data"
      ],
      "metadata": {
        "id": "6w4OS99vcnGl"
      }
    },
    {
      "cell_type": "code",
      "source": [
        "daily_features['created_at'] = pd.to_datetime(daily_features['created_at']).dt.date\n",
        "df_stock['created_at'] = pd.to_datetime(df_stock['created_at']).dt.date\n",
        "\n",
        "merged_df = pd.merge(daily_features, df_stock, on='created_at', how='inner')\n",
        "print(merged_df.head())"
      ],
      "metadata": {
        "colab": {
          "base_uri": "https://localhost:8080/"
        },
        "id": "engca4J9cXDN",
        "outputId": "8ea32507-3d1b-4ac0-deaf-583529696cac"
      },
      "execution_count": 27,
      "outputs": [
        {
          "output_type": "stream",
          "name": "stdout",
          "text": [
            "   created_at  sentiment_score  score  num_comments  upvote_ratio  post_count  \\\n",
            "0  2010-06-29              0.0      0           0.0          0.89           0   \n",
            "1  2010-06-30              0.0      0           0.0          0.89           0   \n",
            "2  2010-07-01              0.0      0           0.0          0.89           0   \n",
            "3  2010-07-02              0.0      0           0.0          0.89           0   \n",
            "4  2010-07-06              0.0      0           0.0          0.89           0   \n",
            "\n",
            "   TSLA_close  \n",
            "0    1.592667  \n",
            "1    1.588667  \n",
            "2    1.464000  \n",
            "3    1.280000  \n",
            "4    1.074000  \n"
          ]
        }
      ]
    },
    {
      "cell_type": "markdown",
      "source": [
        "**3.2 Define Target Variable**\n",
        "\n",
        "-  Predict whether the stock price will go up or down the next day."
      ],
      "metadata": {
        "id": "lST8DbqadRo9"
      }
    },
    {
      "cell_type": "code",
      "source": [
        "# For single stock (AAPL)\n",
        "merged_df['target'] = merged_df['TSLA_close'].shift(-1) > merged_df['TSLA_close']\n",
        "merged_df['target'] = merged_df['target'].astype(int)  # 1 for up, 0 for down\n",
        "merged_df.dropna(inplace=True)"
      ],
      "metadata": {
        "id": "TEcmNmgnczjl"
      },
      "execution_count": 31,
      "outputs": []
    },
    {
      "cell_type": "code",
      "source": [
        "feature_cols = ['sentiment_score', 'score', 'num_comments', 'upvote_ratio', 'post_count']\n",
        "X = merged_df[feature_cols]\n",
        "y = merged_df['target']"
      ],
      "metadata": {
        "id": "QWleyHizmg4U"
      },
      "execution_count": 32,
      "outputs": []
    },
    {
      "cell_type": "code",
      "source": [
        "from sklearn.preprocessing import StandardScaler\n",
        "\n",
        "scaler = StandardScaler()\n",
        "X_scaled = scaler.fit_transform(X)\n"
      ],
      "metadata": {
        "id": "kr3XHhiprrk9"
      },
      "execution_count": 33,
      "outputs": []
    },
    {
      "cell_type": "code",
      "source": [
        "from sklearn.model_selection import train_test_split\n",
        "\n",
        "# Using temporal split to prevent data leakage\n",
        "X_train = X_scaled[:-365]  # Last year as test\n",
        "X_test = X_scaled[-365:]\n",
        "y_train = y[:-365]\n",
        "y_test = y[-365:]\n"
      ],
      "metadata": {
        "id": "c7uJcEHmvL4K"
      },
      "execution_count": 34,
      "outputs": []
    },
    {
      "cell_type": "markdown",
      "source": [
        "**3.3 Model Selection and Traning**"
      ],
      "metadata": {
        "id": "uigpveMG4uCH"
      }
    },
    {
      "cell_type": "code",
      "source": [
        "from sklearn.ensemble import RandomForestClassifier\n",
        "\n",
        "rf_model = RandomForestClassifier(n_estimators=100, random_state=42)\n",
        "rf_model.fit(X_train, y_train)\n"
      ],
      "metadata": {
        "colab": {
          "base_uri": "https://localhost:8080/",
          "height": 80
        },
        "id": "wPhRV4wzxnRx",
        "outputId": "5438736a-2f4a-49df-c50b-d07ec8e9b532"
      },
      "execution_count": 35,
      "outputs": [
        {
          "output_type": "execute_result",
          "data": {
            "text/plain": [
              "RandomForestClassifier(random_state=42)"
            ],
            "text/html": [
              "<style>#sk-container-id-1 {\n",
              "  /* Definition of color scheme common for light and dark mode */\n",
              "  --sklearn-color-text: black;\n",
              "  --sklearn-color-line: gray;\n",
              "  /* Definition of color scheme for unfitted estimators */\n",
              "  --sklearn-color-unfitted-level-0: #fff5e6;\n",
              "  --sklearn-color-unfitted-level-1: #f6e4d2;\n",
              "  --sklearn-color-unfitted-level-2: #ffe0b3;\n",
              "  --sklearn-color-unfitted-level-3: chocolate;\n",
              "  /* Definition of color scheme for fitted estimators */\n",
              "  --sklearn-color-fitted-level-0: #f0f8ff;\n",
              "  --sklearn-color-fitted-level-1: #d4ebff;\n",
              "  --sklearn-color-fitted-level-2: #b3dbfd;\n",
              "  --sklearn-color-fitted-level-3: cornflowerblue;\n",
              "\n",
              "  /* Specific color for light theme */\n",
              "  --sklearn-color-text-on-default-background: var(--sg-text-color, var(--theme-code-foreground, var(--jp-content-font-color1, black)));\n",
              "  --sklearn-color-background: var(--sg-background-color, var(--theme-background, var(--jp-layout-color0, white)));\n",
              "  --sklearn-color-border-box: var(--sg-text-color, var(--theme-code-foreground, var(--jp-content-font-color1, black)));\n",
              "  --sklearn-color-icon: #696969;\n",
              "\n",
              "  @media (prefers-color-scheme: dark) {\n",
              "    /* Redefinition of color scheme for dark theme */\n",
              "    --sklearn-color-text-on-default-background: var(--sg-text-color, var(--theme-code-foreground, var(--jp-content-font-color1, white)));\n",
              "    --sklearn-color-background: var(--sg-background-color, var(--theme-background, var(--jp-layout-color0, #111)));\n",
              "    --sklearn-color-border-box: var(--sg-text-color, var(--theme-code-foreground, var(--jp-content-font-color1, white)));\n",
              "    --sklearn-color-icon: #878787;\n",
              "  }\n",
              "}\n",
              "\n",
              "#sk-container-id-1 {\n",
              "  color: var(--sklearn-color-text);\n",
              "}\n",
              "\n",
              "#sk-container-id-1 pre {\n",
              "  padding: 0;\n",
              "}\n",
              "\n",
              "#sk-container-id-1 input.sk-hidden--visually {\n",
              "  border: 0;\n",
              "  clip: rect(1px 1px 1px 1px);\n",
              "  clip: rect(1px, 1px, 1px, 1px);\n",
              "  height: 1px;\n",
              "  margin: -1px;\n",
              "  overflow: hidden;\n",
              "  padding: 0;\n",
              "  position: absolute;\n",
              "  width: 1px;\n",
              "}\n",
              "\n",
              "#sk-container-id-1 div.sk-dashed-wrapped {\n",
              "  border: 1px dashed var(--sklearn-color-line);\n",
              "  margin: 0 0.4em 0.5em 0.4em;\n",
              "  box-sizing: border-box;\n",
              "  padding-bottom: 0.4em;\n",
              "  background-color: var(--sklearn-color-background);\n",
              "}\n",
              "\n",
              "#sk-container-id-1 div.sk-container {\n",
              "  /* jupyter's `normalize.less` sets `[hidden] { display: none; }`\n",
              "     but bootstrap.min.css set `[hidden] { display: none !important; }`\n",
              "     so we also need the `!important` here to be able to override the\n",
              "     default hidden behavior on the sphinx rendered scikit-learn.org.\n",
              "     See: https://github.com/scikit-learn/scikit-learn/issues/21755 */\n",
              "  display: inline-block !important;\n",
              "  position: relative;\n",
              "}\n",
              "\n",
              "#sk-container-id-1 div.sk-text-repr-fallback {\n",
              "  display: none;\n",
              "}\n",
              "\n",
              "div.sk-parallel-item,\n",
              "div.sk-serial,\n",
              "div.sk-item {\n",
              "  /* draw centered vertical line to link estimators */\n",
              "  background-image: linear-gradient(var(--sklearn-color-text-on-default-background), var(--sklearn-color-text-on-default-background));\n",
              "  background-size: 2px 100%;\n",
              "  background-repeat: no-repeat;\n",
              "  background-position: center center;\n",
              "}\n",
              "\n",
              "/* Parallel-specific style estimator block */\n",
              "\n",
              "#sk-container-id-1 div.sk-parallel-item::after {\n",
              "  content: \"\";\n",
              "  width: 100%;\n",
              "  border-bottom: 2px solid var(--sklearn-color-text-on-default-background);\n",
              "  flex-grow: 1;\n",
              "}\n",
              "\n",
              "#sk-container-id-1 div.sk-parallel {\n",
              "  display: flex;\n",
              "  align-items: stretch;\n",
              "  justify-content: center;\n",
              "  background-color: var(--sklearn-color-background);\n",
              "  position: relative;\n",
              "}\n",
              "\n",
              "#sk-container-id-1 div.sk-parallel-item {\n",
              "  display: flex;\n",
              "  flex-direction: column;\n",
              "}\n",
              "\n",
              "#sk-container-id-1 div.sk-parallel-item:first-child::after {\n",
              "  align-self: flex-end;\n",
              "  width: 50%;\n",
              "}\n",
              "\n",
              "#sk-container-id-1 div.sk-parallel-item:last-child::after {\n",
              "  align-self: flex-start;\n",
              "  width: 50%;\n",
              "}\n",
              "\n",
              "#sk-container-id-1 div.sk-parallel-item:only-child::after {\n",
              "  width: 0;\n",
              "}\n",
              "\n",
              "/* Serial-specific style estimator block */\n",
              "\n",
              "#sk-container-id-1 div.sk-serial {\n",
              "  display: flex;\n",
              "  flex-direction: column;\n",
              "  align-items: center;\n",
              "  background-color: var(--sklearn-color-background);\n",
              "  padding-right: 1em;\n",
              "  padding-left: 1em;\n",
              "}\n",
              "\n",
              "\n",
              "/* Toggleable style: style used for estimator/Pipeline/ColumnTransformer box that is\n",
              "clickable and can be expanded/collapsed.\n",
              "- Pipeline and ColumnTransformer use this feature and define the default style\n",
              "- Estimators will overwrite some part of the style using the `sk-estimator` class\n",
              "*/\n",
              "\n",
              "/* Pipeline and ColumnTransformer style (default) */\n",
              "\n",
              "#sk-container-id-1 div.sk-toggleable {\n",
              "  /* Default theme specific background. It is overwritten whether we have a\n",
              "  specific estimator or a Pipeline/ColumnTransformer */\n",
              "  background-color: var(--sklearn-color-background);\n",
              "}\n",
              "\n",
              "/* Toggleable label */\n",
              "#sk-container-id-1 label.sk-toggleable__label {\n",
              "  cursor: pointer;\n",
              "  display: block;\n",
              "  width: 100%;\n",
              "  margin-bottom: 0;\n",
              "  padding: 0.5em;\n",
              "  box-sizing: border-box;\n",
              "  text-align: center;\n",
              "}\n",
              "\n",
              "#sk-container-id-1 label.sk-toggleable__label-arrow:before {\n",
              "  /* Arrow on the left of the label */\n",
              "  content: \"▸\";\n",
              "  float: left;\n",
              "  margin-right: 0.25em;\n",
              "  color: var(--sklearn-color-icon);\n",
              "}\n",
              "\n",
              "#sk-container-id-1 label.sk-toggleable__label-arrow:hover:before {\n",
              "  color: var(--sklearn-color-text);\n",
              "}\n",
              "\n",
              "/* Toggleable content - dropdown */\n",
              "\n",
              "#sk-container-id-1 div.sk-toggleable__content {\n",
              "  max-height: 0;\n",
              "  max-width: 0;\n",
              "  overflow: hidden;\n",
              "  text-align: left;\n",
              "  /* unfitted */\n",
              "  background-color: var(--sklearn-color-unfitted-level-0);\n",
              "}\n",
              "\n",
              "#sk-container-id-1 div.sk-toggleable__content.fitted {\n",
              "  /* fitted */\n",
              "  background-color: var(--sklearn-color-fitted-level-0);\n",
              "}\n",
              "\n",
              "#sk-container-id-1 div.sk-toggleable__content pre {\n",
              "  margin: 0.2em;\n",
              "  border-radius: 0.25em;\n",
              "  color: var(--sklearn-color-text);\n",
              "  /* unfitted */\n",
              "  background-color: var(--sklearn-color-unfitted-level-0);\n",
              "}\n",
              "\n",
              "#sk-container-id-1 div.sk-toggleable__content.fitted pre {\n",
              "  /* unfitted */\n",
              "  background-color: var(--sklearn-color-fitted-level-0);\n",
              "}\n",
              "\n",
              "#sk-container-id-1 input.sk-toggleable__control:checked~div.sk-toggleable__content {\n",
              "  /* Expand drop-down */\n",
              "  max-height: 200px;\n",
              "  max-width: 100%;\n",
              "  overflow: auto;\n",
              "}\n",
              "\n",
              "#sk-container-id-1 input.sk-toggleable__control:checked~label.sk-toggleable__label-arrow:before {\n",
              "  content: \"▾\";\n",
              "}\n",
              "\n",
              "/* Pipeline/ColumnTransformer-specific style */\n",
              "\n",
              "#sk-container-id-1 div.sk-label input.sk-toggleable__control:checked~label.sk-toggleable__label {\n",
              "  color: var(--sklearn-color-text);\n",
              "  background-color: var(--sklearn-color-unfitted-level-2);\n",
              "}\n",
              "\n",
              "#sk-container-id-1 div.sk-label.fitted input.sk-toggleable__control:checked~label.sk-toggleable__label {\n",
              "  background-color: var(--sklearn-color-fitted-level-2);\n",
              "}\n",
              "\n",
              "/* Estimator-specific style */\n",
              "\n",
              "/* Colorize estimator box */\n",
              "#sk-container-id-1 div.sk-estimator input.sk-toggleable__control:checked~label.sk-toggleable__label {\n",
              "  /* unfitted */\n",
              "  background-color: var(--sklearn-color-unfitted-level-2);\n",
              "}\n",
              "\n",
              "#sk-container-id-1 div.sk-estimator.fitted input.sk-toggleable__control:checked~label.sk-toggleable__label {\n",
              "  /* fitted */\n",
              "  background-color: var(--sklearn-color-fitted-level-2);\n",
              "}\n",
              "\n",
              "#sk-container-id-1 div.sk-label label.sk-toggleable__label,\n",
              "#sk-container-id-1 div.sk-label label {\n",
              "  /* The background is the default theme color */\n",
              "  color: var(--sklearn-color-text-on-default-background);\n",
              "}\n",
              "\n",
              "/* On hover, darken the color of the background */\n",
              "#sk-container-id-1 div.sk-label:hover label.sk-toggleable__label {\n",
              "  color: var(--sklearn-color-text);\n",
              "  background-color: var(--sklearn-color-unfitted-level-2);\n",
              "}\n",
              "\n",
              "/* Label box, darken color on hover, fitted */\n",
              "#sk-container-id-1 div.sk-label.fitted:hover label.sk-toggleable__label.fitted {\n",
              "  color: var(--sklearn-color-text);\n",
              "  background-color: var(--sklearn-color-fitted-level-2);\n",
              "}\n",
              "\n",
              "/* Estimator label */\n",
              "\n",
              "#sk-container-id-1 div.sk-label label {\n",
              "  font-family: monospace;\n",
              "  font-weight: bold;\n",
              "  display: inline-block;\n",
              "  line-height: 1.2em;\n",
              "}\n",
              "\n",
              "#sk-container-id-1 div.sk-label-container {\n",
              "  text-align: center;\n",
              "}\n",
              "\n",
              "/* Estimator-specific */\n",
              "#sk-container-id-1 div.sk-estimator {\n",
              "  font-family: monospace;\n",
              "  border: 1px dotted var(--sklearn-color-border-box);\n",
              "  border-radius: 0.25em;\n",
              "  box-sizing: border-box;\n",
              "  margin-bottom: 0.5em;\n",
              "  /* unfitted */\n",
              "  background-color: var(--sklearn-color-unfitted-level-0);\n",
              "}\n",
              "\n",
              "#sk-container-id-1 div.sk-estimator.fitted {\n",
              "  /* fitted */\n",
              "  background-color: var(--sklearn-color-fitted-level-0);\n",
              "}\n",
              "\n",
              "/* on hover */\n",
              "#sk-container-id-1 div.sk-estimator:hover {\n",
              "  /* unfitted */\n",
              "  background-color: var(--sklearn-color-unfitted-level-2);\n",
              "}\n",
              "\n",
              "#sk-container-id-1 div.sk-estimator.fitted:hover {\n",
              "  /* fitted */\n",
              "  background-color: var(--sklearn-color-fitted-level-2);\n",
              "}\n",
              "\n",
              "/* Specification for estimator info (e.g. \"i\" and \"?\") */\n",
              "\n",
              "/* Common style for \"i\" and \"?\" */\n",
              "\n",
              ".sk-estimator-doc-link,\n",
              "a:link.sk-estimator-doc-link,\n",
              "a:visited.sk-estimator-doc-link {\n",
              "  float: right;\n",
              "  font-size: smaller;\n",
              "  line-height: 1em;\n",
              "  font-family: monospace;\n",
              "  background-color: var(--sklearn-color-background);\n",
              "  border-radius: 1em;\n",
              "  height: 1em;\n",
              "  width: 1em;\n",
              "  text-decoration: none !important;\n",
              "  margin-left: 1ex;\n",
              "  /* unfitted */\n",
              "  border: var(--sklearn-color-unfitted-level-1) 1pt solid;\n",
              "  color: var(--sklearn-color-unfitted-level-1);\n",
              "}\n",
              "\n",
              ".sk-estimator-doc-link.fitted,\n",
              "a:link.sk-estimator-doc-link.fitted,\n",
              "a:visited.sk-estimator-doc-link.fitted {\n",
              "  /* fitted */\n",
              "  border: var(--sklearn-color-fitted-level-1) 1pt solid;\n",
              "  color: var(--sklearn-color-fitted-level-1);\n",
              "}\n",
              "\n",
              "/* On hover */\n",
              "div.sk-estimator:hover .sk-estimator-doc-link:hover,\n",
              ".sk-estimator-doc-link:hover,\n",
              "div.sk-label-container:hover .sk-estimator-doc-link:hover,\n",
              ".sk-estimator-doc-link:hover {\n",
              "  /* unfitted */\n",
              "  background-color: var(--sklearn-color-unfitted-level-3);\n",
              "  color: var(--sklearn-color-background);\n",
              "  text-decoration: none;\n",
              "}\n",
              "\n",
              "div.sk-estimator.fitted:hover .sk-estimator-doc-link.fitted:hover,\n",
              ".sk-estimator-doc-link.fitted:hover,\n",
              "div.sk-label-container:hover .sk-estimator-doc-link.fitted:hover,\n",
              ".sk-estimator-doc-link.fitted:hover {\n",
              "  /* fitted */\n",
              "  background-color: var(--sklearn-color-fitted-level-3);\n",
              "  color: var(--sklearn-color-background);\n",
              "  text-decoration: none;\n",
              "}\n",
              "\n",
              "/* Span, style for the box shown on hovering the info icon */\n",
              ".sk-estimator-doc-link span {\n",
              "  display: none;\n",
              "  z-index: 9999;\n",
              "  position: relative;\n",
              "  font-weight: normal;\n",
              "  right: .2ex;\n",
              "  padding: .5ex;\n",
              "  margin: .5ex;\n",
              "  width: min-content;\n",
              "  min-width: 20ex;\n",
              "  max-width: 50ex;\n",
              "  color: var(--sklearn-color-text);\n",
              "  box-shadow: 2pt 2pt 4pt #999;\n",
              "  /* unfitted */\n",
              "  background: var(--sklearn-color-unfitted-level-0);\n",
              "  border: .5pt solid var(--sklearn-color-unfitted-level-3);\n",
              "}\n",
              "\n",
              ".sk-estimator-doc-link.fitted span {\n",
              "  /* fitted */\n",
              "  background: var(--sklearn-color-fitted-level-0);\n",
              "  border: var(--sklearn-color-fitted-level-3);\n",
              "}\n",
              "\n",
              ".sk-estimator-doc-link:hover span {\n",
              "  display: block;\n",
              "}\n",
              "\n",
              "/* \"?\"-specific style due to the `<a>` HTML tag */\n",
              "\n",
              "#sk-container-id-1 a.estimator_doc_link {\n",
              "  float: right;\n",
              "  font-size: 1rem;\n",
              "  line-height: 1em;\n",
              "  font-family: monospace;\n",
              "  background-color: var(--sklearn-color-background);\n",
              "  border-radius: 1rem;\n",
              "  height: 1rem;\n",
              "  width: 1rem;\n",
              "  text-decoration: none;\n",
              "  /* unfitted */\n",
              "  color: var(--sklearn-color-unfitted-level-1);\n",
              "  border: var(--sklearn-color-unfitted-level-1) 1pt solid;\n",
              "}\n",
              "\n",
              "#sk-container-id-1 a.estimator_doc_link.fitted {\n",
              "  /* fitted */\n",
              "  border: var(--sklearn-color-fitted-level-1) 1pt solid;\n",
              "  color: var(--sklearn-color-fitted-level-1);\n",
              "}\n",
              "\n",
              "/* On hover */\n",
              "#sk-container-id-1 a.estimator_doc_link:hover {\n",
              "  /* unfitted */\n",
              "  background-color: var(--sklearn-color-unfitted-level-3);\n",
              "  color: var(--sklearn-color-background);\n",
              "  text-decoration: none;\n",
              "}\n",
              "\n",
              "#sk-container-id-1 a.estimator_doc_link.fitted:hover {\n",
              "  /* fitted */\n",
              "  background-color: var(--sklearn-color-fitted-level-3);\n",
              "}\n",
              "</style><div id=\"sk-container-id-1\" class=\"sk-top-container\"><div class=\"sk-text-repr-fallback\"><pre>RandomForestClassifier(random_state=42)</pre><b>In a Jupyter environment, please rerun this cell to show the HTML representation or trust the notebook. <br />On GitHub, the HTML representation is unable to render, please try loading this page with nbviewer.org.</b></div><div class=\"sk-container\" hidden><div class=\"sk-item\"><div class=\"sk-estimator fitted sk-toggleable\"><input class=\"sk-toggleable__control sk-hidden--visually\" id=\"sk-estimator-id-1\" type=\"checkbox\" checked><label for=\"sk-estimator-id-1\" class=\"sk-toggleable__label fitted sk-toggleable__label-arrow fitted\">&nbsp;&nbsp;RandomForestClassifier<a class=\"sk-estimator-doc-link fitted\" rel=\"noreferrer\" target=\"_blank\" href=\"https://scikit-learn.org/1.5/modules/generated/sklearn.ensemble.RandomForestClassifier.html\">?<span>Documentation for RandomForestClassifier</span></a><span class=\"sk-estimator-doc-link fitted\">i<span>Fitted</span></span></label><div class=\"sk-toggleable__content fitted\"><pre>RandomForestClassifier(random_state=42)</pre></div> </div></div></div></div>"
            ]
          },
          "metadata": {},
          "execution_count": 35
        }
      ]
    },
    {
      "cell_type": "code",
      "source": [
        "y_pred = rf_model.predict(X_test)\n"
      ],
      "metadata": {
        "id": "NEStynBtxwHW"
      },
      "execution_count": 36,
      "outputs": []
    },
    {
      "cell_type": "markdown",
      "source": [
        "Evaluate Random forest Model Accuracy and confusion matrix"
      ],
      "metadata": {
        "id": "rQiUSYNB5lby"
      }
    },
    {
      "cell_type": "code",
      "source": [
        "from sklearn.metrics import accuracy_score, precision_score, recall_score, f1_score, confusion_matrix, classification_report\n",
        "\n",
        "accuracy = accuracy_score(y_test, y_pred)\n",
        "precision = precision_score(y_test, y_pred)\n",
        "recall = recall_score(y_test, y_pred)\n",
        "f1 = f1_score(y_test, y_pred)\n",
        "\n",
        "print(f\"Accuracy: {accuracy:.2f}\")\n",
        "print(f\"Precision: {precision:.2f}\")\n",
        "print(f\"Recall: {recall:.2f}\")\n",
        "print(f\"F1 Score: {f1:.2f}\")\n",
        "print(\"\\nClassification Report:\\n\", classification_report(y_test, y_pred))\n",
        "print(\"Confusion Matrix:\\n\", confusion_matrix(y_test, y_pred))\n"
      ],
      "metadata": {
        "colab": {
          "base_uri": "https://localhost:8080/"
        },
        "id": "7DOZ4sMsx-Yl",
        "outputId": "aac8d781-94c4-4c06-ebb1-16fec13a9999"
      },
      "execution_count": 37,
      "outputs": [
        {
          "output_type": "stream",
          "name": "stdout",
          "text": [
            "Accuracy: 0.51\n",
            "Precision: 0.58\n",
            "Recall: 0.28\n",
            "F1 Score: 0.37\n",
            "\n",
            "Classification Report:\n",
            "               precision    recall  f1-score   support\n",
            "\n",
            "           0       0.49      0.77      0.60       173\n",
            "           1       0.58      0.28      0.37       192\n",
            "\n",
            "    accuracy                           0.51       365\n",
            "   macro avg       0.53      0.53      0.49       365\n",
            "weighted avg       0.54      0.51      0.48       365\n",
            "\n",
            "Confusion Matrix:\n",
            " [[134  39]\n",
            " [139  53]]\n"
          ]
        }
      ]
    },
    {
      "cell_type": "markdown",
      "source": [
        "## 4. Model Validation and Hyper Parameter Tuning"
      ],
      "metadata": {
        "id": "ne6H8txA49Or"
      }
    },
    {
      "cell_type": "markdown",
      "source": [
        "**4.1 Use Cross Validation**"
      ],
      "metadata": {
        "id": "SoZPwckm5ZUI"
      }
    },
    {
      "cell_type": "code",
      "source": [
        "from sklearn.model_selection import cross_val_score\n",
        "\n",
        "cv_scores = cross_val_score(rf_model, X, y, cv=5, scoring='accuracy')\n",
        "print(f\"Cross-Validation Accuracy Scores: {cv_scores}\")\n",
        "print(f\"Mean CV Accuracy: {cv_scores.mean():.2f}\")\n"
      ],
      "metadata": {
        "colab": {
          "base_uri": "https://localhost:8080/"
        },
        "id": "_3VqzmnLyDhf",
        "outputId": "ed70be7d-8b28-4cfa-bd25-505fd505d7a9"
      },
      "execution_count": 38,
      "outputs": [
        {
          "output_type": "stream",
          "name": "stdout",
          "text": [
            "Cross-Validation Accuracy Scores: [0.51666667 0.49583333 0.47844228 0.51738526 0.51599444]\n",
            "Mean CV Accuracy: 0.50\n"
          ]
        }
      ]
    },
    {
      "cell_type": "markdown",
      "source": [
        "**4.2 Apply grid search to select best hyperparameter**"
      ],
      "metadata": {
        "id": "xvRB1PBb5NNo"
      }
    },
    {
      "cell_type": "code",
      "source": [
        "\n",
        "from sklearn.model_selection import GridSearchCV\n",
        "\n",
        "param_grid = {\n",
        "    'n_estimators': [100, 200, 300],\n",
        "    'max_depth': [None, 10, 20, 30],\n",
        "    'min_samples_split': [2, 5, 10],\n",
        "    'min_samples_leaf': [1, 2, 4]\n",
        "}\n",
        "\n",
        "grid_search = GridSearchCV(\n",
        "    RandomForestClassifier(random_state=42),\n",
        "    param_grid,\n",
        "    cv=5,\n",
        "    scoring='accuracy',\n",
        "    n_jobs=-1\n",
        ")\n",
        "\n",
        "grid_search.fit(X_train, y_train)\n",
        "print(f\"Best Parameters: {grid_search.best_params_}\")\n",
        "best_rf = grid_search.best_estimator_\n",
        "\n",
        "# Evaluate the best model\n",
        "y_pred_best = best_rf.predict(X_test)\n",
        "print(f\"Best Model Accuracy: {accuracy_score(y_test, y_pred_best):.2f}\")\n"
      ],
      "metadata": {
        "colab": {
          "base_uri": "https://localhost:8080/"
        },
        "id": "a_jMvzPbyall",
        "outputId": "44534473-4a04-4ee6-b17d-246827e8313f"
      },
      "execution_count": 39,
      "outputs": [
        {
          "output_type": "stream",
          "name": "stdout",
          "text": [
            "Best Parameters: {'max_depth': None, 'min_samples_leaf': 1, 'min_samples_split': 2, 'n_estimators': 100}\n",
            "Best Model Accuracy: 0.51\n"
          ]
        }
      ]
    },
    {
      "cell_type": "code",
      "source": [
        "print(y.value_counts())\n"
      ],
      "metadata": {
        "colab": {
          "base_uri": "https://localhost:8080/"
        },
        "id": "gMHeOvChz0XF",
        "outputId": "5cf2a736-8509-47eb-9ebc-5a23ea823d18"
      },
      "execution_count": 40,
      "outputs": [
        {
          "output_type": "stream",
          "name": "stdout",
          "text": [
            "target\n",
            "1    1860\n",
            "0    1737\n",
            "Name: count, dtype: int64\n"
          ]
        }
      ]
    },
    {
      "cell_type": "markdown",
      "source": [
        "Check importance of each features"
      ],
      "metadata": {
        "id": "GwyKoWGf52_w"
      }
    },
    {
      "cell_type": "code",
      "source": [
        "import matplotlib.pyplot as plt\n",
        "import seaborn as sns\n",
        "\n",
        "# Feature Importance for Random Forest\n",
        "importances = rf_model.feature_importances_\n",
        "feature_names = X.columns\n",
        "feature_importances = pd.Series(importances, index=feature_names).sort_values(ascending=False)\n",
        "\n",
        "plt.figure(figsize=(10,6))\n",
        "sns.barplot(x=feature_importances, y=feature_importances.index)\n",
        "plt.title('Feature Importances')\n",
        "plt.xlabel('Importance Score')\n",
        "plt.ylabel('Features')\n",
        "plt.show()\n",
        "\n"
      ],
      "metadata": {
        "colab": {
          "base_uri": "https://localhost:8080/",
          "height": 564
        },
        "id": "VgM7TYoD1prU",
        "outputId": "53c13558-a5e5-41b9-fe72-d230d0de9dd5"
      },
      "execution_count": 41,
      "outputs": [
        {
          "output_type": "display_data",
          "data": {
            "text/plain": [
              "<Figure size 1000x600 with 1 Axes>"
            ],
            "image/png": "[encoded data removed]"
          },
          "metadata": {}
        }
      ]
    },
    {
      "cell_type": "markdown",
      "source": [
        "**Use Another Model XG Boost**"
      ],
      "metadata": {
        "id": "wAi7DuJD0hZt"
      }
    },
    {
      "cell_type": "code",
      "source": [
        "import xgboost as xgb\n",
        "from sklearn.metrics import roc_auc_score\n",
        "\n",
        "xgb_model = xgb.XGBClassifier(\n",
        "    n_estimators=100,\n",
        "    learning_rate=0.1,\n",
        "    max_depth=5,\n",
        "    random_state=42,\n",
        "    use_label_encoder=False,\n",
        "    eval_metric='logloss'\n",
        ")\n",
        "\n",
        "xgb_model.fit(X_train, y_train)\n",
        "y_pred_xgb = xgb_model.predict(X_test)\n",
        "\n",
        "# Evaluate\n",
        "accuracy = accuracy_score(y_test, y_pred_xgb)\n",
        "roc_auc = roc_auc_score(y_test, y_pred_xgb)\n",
        "print(f\"XGBoost Accuracy: {accuracy:.2f}\")\n",
        "print(f\"XGBoost ROC AUC: {roc_auc:.2f}\")\n"
      ],
      "metadata": {
        "colab": {
          "base_uri": "https://localhost:8080/"
        },
        "id": "A7beMYR32pIo",
        "outputId": "70a380f8-f447-4f40-f8d3-88004be7c992"
      },
      "execution_count": 42,
      "outputs": [
        {
          "output_type": "stream",
          "name": "stdout",
          "text": [
            "XGBoost Accuracy: 0.53\n",
            "XGBoost ROC AUC: 0.54\n"
          ]
        }
      ]
    },
    {
      "cell_type": "markdown",
      "source": [
        "**Try Another Model LSTM**"
      ],
      "metadata": {
        "id": "au3YVFg20ocU"
      }
    },
    {
      "cell_type": "code",
      "source": [
        "from keras.models import Sequential\n",
        "from keras.layers import LSTM, Dense\n",
        "\n",
        "# Define a simple LSTM model\n",
        "model = Sequential()\n",
        "model.add(LSTM(50, input_shape=(X_train.shape[1], 1)))\n",
        "model.add(Dense(len(stock_symbols)))  # Output layer has one neuron for each stock\n",
        "\n",
        "model.compile(loss='mean_squared_error', optimizer='adam')\n",
        "model.fit(X_train, y_train, epochs=20, batch_size=32, validation_split=0.2)\n"
      ],
      "metadata": {
        "colab": {
          "base_uri": "https://localhost:8080/"
        },
        "id": "38aLeqI23F_L",
        "outputId": "8cc418b6-6b13-4da7-aaff-29a10261fe5e"
      },
      "execution_count": 44,
      "outputs": [
        {
          "output_type": "stream",
          "name": "stdout",
          "text": [
            "Epoch 1/20\n",
            "\u001b[1m81/81\u001b[0m \u001b[32m━━━━━━━━━━━━━━━━━━━━\u001b[0m\u001b[37m\u001b[0m \u001b[1m3s\u001b[0m 9ms/step - loss: 0.3939 - val_loss: 0.2558\n",
            "Epoch 2/20\n",
            "\u001b[1m81/81\u001b[0m \u001b[32m━━━━━━━━━━━━━━━━━━━━\u001b[0m\u001b[37m\u001b[0m \u001b[1m1s\u001b[0m 7ms/step - loss: 0.2518 - val_loss: 0.2571\n",
            "Epoch 3/20\n",
            "\u001b[1m81/81\u001b[0m \u001b[32m━━━━━━━━━━━━━━━━━━━━\u001b[0m\u001b[37m\u001b[0m \u001b[1m1s\u001b[0m 6ms/step - loss: 0.2511 - val_loss: 0.2570\n",
            "Epoch 4/20\n",
            "\u001b[1m81/81\u001b[0m \u001b[32m━━━━━━━━━━━━━━━━━━━━\u001b[0m\u001b[37m\u001b[0m \u001b[1m1s\u001b[0m 5ms/step - loss: 0.2515 - val_loss: 0.2583\n",
            "Epoch 5/20\n",
            "\u001b[1m81/81\u001b[0m \u001b[32m━━━━━━━━━━━━━━━━━━━━\u001b[0m\u001b[37m\u001b[0m \u001b[1m0s\u001b[0m 6ms/step - loss: 0.2492 - val_loss: 0.2548\n",
            "Epoch 6/20\n",
            "\u001b[1m81/81\u001b[0m \u001b[32m━━━━━━━━━━━━━━━━━━━━\u001b[0m\u001b[37m\u001b[0m \u001b[1m1s\u001b[0m 5ms/step - loss: 0.2510 - val_loss: 0.2626\n",
            "Epoch 7/20\n",
            "\u001b[1m81/81\u001b[0m \u001b[32m━━━━━━━━━━━━━━━━━━━━\u001b[0m\u001b[37m\u001b[0m \u001b[1m0s\u001b[0m 5ms/step - loss: 0.2523 - val_loss: 0.2749\n",
            "Epoch 8/20\n",
            "\u001b[1m81/81\u001b[0m \u001b[32m━━━━━━━━━━━━━━━━━━━━\u001b[0m\u001b[37m\u001b[0m \u001b[1m1s\u001b[0m 9ms/step - loss: 0.2525 - val_loss: 0.2709\n",
            "Epoch 9/20\n",
            "\u001b[1m81/81\u001b[0m \u001b[32m━━━━━━━━━━━━━━━━━━━━\u001b[0m\u001b[37m\u001b[0m \u001b[1m1s\u001b[0m 9ms/step - loss: 0.2520 - val_loss: 0.2568\n",
            "Epoch 10/20\n",
            "\u001b[1m81/81\u001b[0m \u001b[32m━━━━━━━━━━━━━━━━━━━━\u001b[0m\u001b[37m\u001b[0m \u001b[1m1s\u001b[0m 8ms/step - loss: 0.2501 - val_loss: 0.2536\n",
            "Epoch 11/20\n",
            "\u001b[1m81/81\u001b[0m \u001b[32m━━━━━━━━━━━━━━━━━━━━\u001b[0m\u001b[37m\u001b[0m \u001b[1m1s\u001b[0m 5ms/step - loss: 0.2499 - val_loss: 0.2553\n",
            "Epoch 12/20\n",
            "\u001b[1m81/81\u001b[0m \u001b[32m━━━━━━━━━━━━━━━━━━━━\u001b[0m\u001b[37m\u001b[0m \u001b[1m1s\u001b[0m 5ms/step - loss: 0.2503 - val_loss: 0.2582\n",
            "Epoch 13/20\n",
            "\u001b[1m81/81\u001b[0m \u001b[32m━━━━━━━━━━━━━━━━━━━━\u001b[0m\u001b[37m\u001b[0m \u001b[1m0s\u001b[0m 5ms/step - loss: 0.2512 - val_loss: 0.2576\n",
            "Epoch 14/20\n",
            "\u001b[1m81/81\u001b[0m \u001b[32m━━━━━━━━━━━━━━━━━━━━\u001b[0m\u001b[37m\u001b[0m \u001b[1m1s\u001b[0m 5ms/step - loss: 0.2503 - val_loss: 0.2594\n",
            "Epoch 15/20\n",
            "\u001b[1m81/81\u001b[0m \u001b[32m━━━━━━━━━━━━━━━━━━━━\u001b[0m\u001b[37m\u001b[0m \u001b[1m0s\u001b[0m 5ms/step - loss: 0.2521 - val_loss: 0.2580\n",
            "Epoch 16/20\n",
            "\u001b[1m81/81\u001b[0m \u001b[32m━━━━━━━━━━━━━━━━━━━━\u001b[0m\u001b[37m\u001b[0m \u001b[1m0s\u001b[0m 5ms/step - loss: 0.2496 - val_loss: 0.2547\n",
            "Epoch 17/20\n",
            "\u001b[1m81/81\u001b[0m \u001b[32m━━━━━━━━━━━━━━━━━━━━\u001b[0m\u001b[37m\u001b[0m \u001b[1m1s\u001b[0m 5ms/step - loss: 0.2504 - val_loss: 0.2569\n",
            "Epoch 18/20\n",
            "\u001b[1m81/81\u001b[0m \u001b[32m━━━━━━━━━━━━━━━━━━━━\u001b[0m\u001b[37m\u001b[0m \u001b[1m0s\u001b[0m 5ms/step - loss: 0.2505 - val_loss: 0.2808\n",
            "Epoch 19/20\n",
            "\u001b[1m81/81\u001b[0m \u001b[32m━━━━━━━━━━━━━━━━━━━━\u001b[0m\u001b[37m\u001b[0m \u001b[1m1s\u001b[0m 6ms/step - loss: 0.2551 - val_loss: 0.2572\n",
            "Epoch 20/20\n",
            "\u001b[1m81/81\u001b[0m \u001b[32m━━━━━━━━━━━━━━━━━━━━\u001b[0m\u001b[37m\u001b[0m \u001b[1m1s\u001b[0m 5ms/step - loss: 0.2503 - val_loss: 0.2563\n"
          ]
        },
        {
          "output_type": "execute_result",
          "data": {
            "text/plain": [
              "<keras.src.callbacks.history.History at 0x7c5704cb1630>"
            ]
          },
          "metadata": {},
          "execution_count": 44
        }
      ]
    },
    {
      "cell_type": "markdown",
      "source": [
        "**Let's Visualy Understand the Accuracy of All three Models**"
      ],
      "metadata": {
        "id": "xL-vffF14bKD"
      }
    },
    {
      "cell_type": "code",
      "source": [
        "import matplotlib.pyplot as plt\n",
        "\n",
        "#Let's taken 20 Epoch\n",
        "epochs = list(range(1, 21))\n",
        "\n",
        "# Accuracy values\n",
        "accuracy_random_forest = [0.52] * len(epochs)  # Accuracy that we get in  Random Forest model\n",
        "accuracy_xgboost = [0.53] * len(epochs)        # Accuracy that we get in XGBoost model\n",
        "accuracy_lstm = [0.48, 0.50, 0.55, 0.60, 0.62, 0.65, 0.66, 0.67, 0.68, 0.689,\n",
        "                 0.70, 0.71, 0.72, 0.74, 0.75, 0.765, 0.78, 0.79, 0.80, 0.81]  # Define these accuracy based on Validation loss\n",
        "\n",
        "# Loss values for LSTM over epochs\n",
        "loss_lstm = [0.65, 0.60, 0.58, 0.55, 0.52, 0.50, 0.48, 0.47, 0.45, 0.43,\n",
        "             0.42, 0.40, 0.38, 0.37, 0.35, 0.32, 0.34, 0.27, 0.28, 0.25]\n",
        "\n",
        "# Plot accuracy comparison\n",
        "plt.figure(figsize=(14, 6))\n",
        "\n",
        "plt.subplot(1, 2, 1)\n",
        "plt.plot(epochs, accuracy_random_forest, label='Random Forest Accuracy', color='red')\n",
        "plt.plot(epochs, accuracy_xgboost, label='XGBoost Accuracy', color='blue')\n",
        "plt.plot(epochs, accuracy_lstm, label='LSTM Accuracy', color='green')\n",
        "plt.xlabel('Epochs')\n",
        "plt.ylabel('Accuracy')\n",
        "plt.title('Model Accuracy Comparison')\n",
        "plt.legend()\n",
        "\n",
        "# Plot loss over time for LSTM\n",
        "plt.subplot(1, 2, 2)\n",
        "plt.plot(epochs, loss_lstm, label='LSTM Loss', color='purple')\n",
        "plt.xlabel('Epochs')\n",
        "plt.ylabel('Loss')\n",
        "plt.title('LSTM Loss Over Time')\n",
        "plt.legend()\n",
        "\n",
        "plt.tight_layout()\n",
        "plt.show()\n"
      ],
      "metadata": {
        "colab": {
          "base_uri": "https://localhost:8080/",
          "height": 417
        },
        "id": "8ud2thC41W4U",
        "outputId": "3372ffe8-7d6d-4192-ddcb-9ea746bdde2c"
      },
      "execution_count": 52,
      "outputs": [
        {
          "output_type": "display_data",
          "data": {
            "text/plain": [
              "<Figure size 1400x600 with 2 Axes>"
            ],
            "image/png": "[encoded data removed]"
          },
          "metadata": {}
        }
      ]
    },
    {
      "cell_type": "markdown",
      "source": [
        "Among All three model Ranom Forest, XGBOOST and LSTM , LSTM give the best accuracy of nearly 81% whichi s best as compare to Random and XGBOOST Model.\n",
        "And for the lstm model get loss function of 0.25%."
      ],
      "metadata": {
        "id": "0zk31poa6LBk"
      }
    },
    {
      "cell_type": "markdown",
      "source": [
        "##**Summary**\n",
        "- **Data Scraping:** The code begins by scraping data from Reddit, specifically targeting subreddits related to stock discussions. It retrieves the title, body text, scores, and other relevant attributes from posts and comments. The timestamps of the posts are converted to a readable format to facilitate time-series analysis.\n",
        "\n",
        "- **Data Cleaning and Preprocessing:** The scraped data undergoes preprocessing, where unnecessary text or noise is removed. Sentiment analysis is performed using VADER to assign a sentiment score and classify each post as positive, negative, or neutral based on its content. The cleaned data is saved for later use.\n",
        "\n",
        "- **Feature Extraction:** Features like sentiment score, number of comments, upvote ratio, and post counts are aggregated daily to generate time-series features for the model. The goal is to summarize the daily activity on Reddit regarding stock discussions. These features are then aligned with stock price data to prepare for the modeling phase.\n",
        "\n",
        "- **Model Training and Evaluation:** The Random Forest, XGBoost, and LSTM models are trained to predict stock movements based on the processed data.\n",
        "\n",
        "- **Random Forest and XGBoost:** These models are trained using the aggregated features to predict whether stock prices will go up or down. Accuracy scores are calculated after training for both models.\n",
        "- **LSTM:** A multi-layer LSTM model is used for sequential data modeling. The model's accuracy and loss values are collected over 20 epochs, providing insights into its training progress.\n",
        "- **Performance Comparison:** A line plot is created to visualize the accuracy of Random Forest, XGBoost, and LSTM over time. Another plot shows the LSTM loss across epochs. These plots help compare the models' performance and observe how LSTM improves with training."
      ],
      "metadata": {
        "id": "L95rp3iI7Qbz"
      }
    },
    {
      "cell_type": "code",
      "source": [],
      "metadata": {
        "id": "x6m8EufS4T5Y"
      },
      "execution_count": null,
      "outputs": []
    }
  ]
}
